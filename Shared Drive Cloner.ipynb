{
  "nbformat": 4,
  "nbformat_minor": 0,
  "metadata": {
    "colab": {
      "name": "Cloner(1-2).ipynb",
      "provenance": [],
      "include_colab_link": true
    },
    "kernelspec": {
      "name": "python3",
      "display_name": "Python 3"
    },
    "language_info": {
      "name": "python"
    }
  },
  "cells": [
    {
      "cell_type": "markdown",
      "metadata": {
        "id": "view-in-github",
        "colab_type": "text"
      },
      "source": [
        "<a href=\"https://colab.research.google.com/github/ANUNEET-Prg/Google-Drive-Cloner/blob/main/Shared%20Drive%20Cloner.ipynb\" target=\"_parent\"><img src=\"https://colab.research.google.com/assets/colab-badge.svg\" alt=\"Open In Colab\"/></a>"
      ]
    },
    {
      "cell_type": "markdown",
      "source": [
        "Connect Your Google Account Using Below Code! -1"
      ],
      "metadata": {
        "id": "n6AMMEIgbggV"
      }
    },
    {
      "cell_type": "code",
      "execution_count": 1,
      "metadata": {
        "colab": {
          "base_uri": "https://localhost:8080/"
        },
        "id": "ykm0uzkd0DoY",
        "outputId": "7c99cb43-3b90-4743-c57e-d5893923ca99"
      },
      "outputs": [
        {
          "output_type": "stream",
          "name": "stdout",
          "text": [
            "Mounted at /gdrive\n"
          ]
        }
      ],
      "source": [
        "from google.colab import drive\n",
        "drive.mount('/gdrive') "
      ]
    },
    {
      "cell_type": "markdown",
      "source": [
        "Execute the Following Code to see Available Shared/Team Drives in your Google Account! -2"
      ],
      "metadata": {
        "id": "UEysGEooceMC"
      }
    },
    {
      "cell_type": "code",
      "source": [
        "!ls '/gdrive/Shared drives/'"
      ],
      "metadata": {
        "id": "SKTRvPzZcaX1"
      },
      "execution_count": null,
      "outputs": []
    },
    {
      "cell_type": "markdown",
      "source": [
        "Now! Check Upload and Download Speed at which the Google Will tranfer your Files! -3"
      ],
      "metadata": {
        "id": "-t-DR-_ocIRE"
      }
    },
    {
      "cell_type": "code",
      "source": [
        "!curl -s https://raw.githubusercontent.com/sivel/speedtest-cli/master/speedtest.py | python"
      ],
      "metadata": {
        "id": "5hLBUEHtcFjY"
      },
      "execution_count": null,
      "outputs": []
    },
    {
      "cell_type": "markdown",
      "source": [
        "Now put the Shared Drive Name which you got from the code (2) after \"Shared drives/EXAMPLE DRIVE\" for simplicity copy & paste it!"
      ],
      "metadata": {
        "id": "IjpudET4cuCq"
      }
    },
    {
      "cell_type": "code",
      "source": [
        "!cp -av \"/gdrive/Shared drives/Local Disk 1\" '/gdrive/Shared drives/Local Disk 2'\n",
        "!cp -av \"/gdrive/Shared drives/Local Disk 2\" '/gdrive/Shared drives/Local Disk 3'"
      ],
      "metadata": {
        "colab": {
          "base_uri": "https://localhost:8080/"
        },
        "id": "eulRb_330ibS",
        "outputId": "ad22c137-819f-44fc-c0f6-91c1042b5533"
      },
      "execution_count": null,
      "outputs": [
        {
          "output_type": "stream",
          "name": "stdout",
          "text": [
            
          ]
        }
      ]
    }
  ]
}
