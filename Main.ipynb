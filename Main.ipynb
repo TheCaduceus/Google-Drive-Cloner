from google.colab import drive
drive.mount('/gdrive')
!curl -s https://raw.githubusercontent.com/sivel/speedtest-cli/master/speedtest.py | python
!cp -av "/gdrive/Shared drives/Local Disk 1" '/gdrive/Shared drives/Local Disk 2'
