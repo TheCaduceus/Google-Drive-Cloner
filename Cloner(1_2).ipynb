{
  "nbformat": 4,
  "nbformat_minor": 0,
  "metadata": {
    "colab": {
      "name": "Cloner(1-2).ipynb",
      "provenance": []
    },
    "kernelspec": {
      "name": "python3",
      "display_name": "Python 3"
    },
    "language_info": {
      "name": "python"
    }
  },
  "cells": [
    {
      "cell_type": "code",
      "execution_count": 1,
      "metadata": {
        "colab": {
          "base_uri": "https://localhost:8080/"
        },
        "id": "ykm0uzkd0DoY",
        "outputId": "e9554b45-13a2-42d6-a356-52ebd3441c19"
      },
      "outputs": [
        {
          "output_type": "stream",
          "name": "stdout",
          "text": [
            "Mounted at /gdrive\n"
          ]
        }
      ],
      "source": [
        "from google.colab import drive\n",
        "drive.mount('/gdrive')"
      ]
    },
    {
      "cell_type": "code",
      "source": [
        "!curl -s https://raw.githubusercontent.com/sivel/speedtest-cli/master/speedtest.py | python"
      ],
      "metadata": {
        "colab": {
          "base_uri": "https://localhost:8080/"
        },
        "id": "ZfZGxQFH0Ycc",
        "outputId": "da0f413f-04f0-4426-9edc-0806a2598e8b"
      },
      "execution_count": 2,
      "outputs": [
        {
          "output_type": "stream",
          "name": "stdout",
          "text": [
            "Retrieving speedtest.net configuration...\n",
            "Testing from Google Cloud (35.245.106.136)...\n",
            "Retrieving speedtest.net server list...\n",
            "Selecting best server based on ping...\n",
            "Hosted by PBW Communications, LLC (Herndon, VA) [31.39 km]: 3.981 ms\n",
            "Testing download speed................................................................................\n",
            "Download: 1981.96 Mbit/s\n",
            "Testing upload speed......................................................................................................\n",
            "Upload: 832.71 Mbit/s\n"
          ]
        }
      ]
    },
    {
      "cell_type": "code",
      "source": [
        "!ls '/gdrive/Shared drives/'"
      ],
      "metadata": {
        "colab": {
          "base_uri": "https://localhost:8080/"
        },
        "id": "JlLqP09P0b8M",
        "outputId": "2c98f0e5-1d1d-4dab-ec4d-39666f4e639e"
      },
      "execution_count": 3,
      "outputs": [
        {
          "output_type": "stream",
          "name": "stdout",
          "text": [
            "'Local Disk 1'\t'Local Disk 2'\n"
          ]
        }
      ]
    },
    {
      "cell_type": "code",
      "source": [
        "!cp -av \"/gdrive/Shared drives/Local Disk 1\" '/gdrive/Shared drives/Local Disk 2'"
      ],
      "metadata": {
        "colab": {
          "base_uri": "https://localhost:8080/"
        },
        "id": "eulRb_330ibS",
        "outputId": "add14df7-ae44-4e9f-82f0-c797e475b329"
      },
      "execution_count": null,
      "outputs": [
        {
          "output_type": "stream",
          "name": "stdout",
          "text": [
            "'/gdrive/Shared drives/Local Disk 1' -> '/gdrive/Shared drives/Local Disk 2/Local Disk 1'\n",
            "'/gdrive/Shared drives/Local Disk 1/Jurassic World - Fallen Kingdom.mp4' -> '/gdrive/Shared drives/Local Disk 2/Local Disk 1/Jurassic World - Fallen Kingdom.mp4'\n",
            "'/gdrive/Shared drives/Local Disk 1/Rise of the Planet of the Apes (2011) 720p [HINDI].mkv' -> '/gdrive/Shared drives/Local Disk 2/Local Disk 1/Rise of the Planet of the Apes (2011) 720p [HINDI].mkv'\n",
            "'/gdrive/Shared drives/Local Disk 1/Dawn of the Planet of the Apes (2014) 720p [HINDI].mkv' -> '/gdrive/Shared drives/Local Disk 2/Local Disk 1/Dawn of the Planet of the Apes (2014) 720p [HINDI].mkv'\n",
            "'/gdrive/Shared drives/Local Disk 1/Robot 2.0.mkv' -> '/gdrive/Shared drives/Local Disk 2/Local Disk 1/Robot 2.0.mkv'\n",
            "'/gdrive/Shared drives/Local Disk 1/Resident Evil Welcome to Raccoon City (2021) Dual Audio 1080p [Hindi].mkv' -> '/gdrive/Shared drives/Local Disk 2/Local Disk 1/Resident Evil Welcome to Raccoon City (2021) Dual Audio 1080p [Hindi].mkv'\n",
            "'/gdrive/Shared drives/Local Disk 1/War for the Planet of the Apes (2017) 720p [HINDI].mkv' -> '/gdrive/Shared drives/Local Disk 2/Local Disk 1/War for the Planet of the Apes (2017) 720p [HINDI].mkv'\n",
            "'/gdrive/Shared drives/Local Disk 1/The.Book.of.Boba.Fett.S01E01.Chapter.1.2160p.DSNP.WEB-DL.Multi.DDP5.1.HEVC-REVOLT.mkv' -> '/gdrive/Shared drives/Local Disk 2/Local Disk 1/The.Book.of.Boba.Fett.S01E01.Chapter.1.2160p.DSNP.WEB-DL.Multi.DDP5.1.HEVC-REVOLT.mkv'\n",
            "'/gdrive/Shared drives/Local Disk 1/Jurassic World.mkv' -> '/gdrive/Shared drives/Local Disk 2/Local Disk 1/Jurassic World.mkv'\n",
            "'/gdrive/Shared drives/Local Disk 1/Jurassic Park.mkv' -> '/gdrive/Shared drives/Local Disk 2/Local Disk 1/Jurassic Park.mkv'\n",
            "'/gdrive/Shared drives/Local Disk 1/Resident Evil Apocalypse (2004).mkv' -> '/gdrive/Shared drives/Local Disk 2/Local Disk 1/Resident Evil Apocalypse (2004).mkv'\n",
            "'/gdrive/Shared drives/Local Disk 1/Resident Evil (2007).mkv' -> '/gdrive/Shared drives/Local Disk 2/Local Disk 1/Resident Evil (2007).mkv'\n",
            "'/gdrive/Shared drives/Local Disk 1/Resident Evil (2016).mkv' -> '/gdrive/Shared drives/Local Disk 2/Local Disk 1/Resident Evil (2016).mkv'\n",
            "'/gdrive/Shared drives/Local Disk 1/WSA-ARM64-Patched.zip' -> '/gdrive/Shared drives/Local Disk 2/Local Disk 1/WSA-ARM64-Patched.zip'\n",
            "'/gdrive/Shared drives/Local Disk 1/WSA-Patched.zip' -> '/gdrive/Shared drives/Local Disk 2/Local Disk 1/WSA-Patched.zip'\n",
            "'/gdrive/Shared drives/Local Disk 1/WsaPackage_1.7.32815.0_x64_Release-Nightly.zip' -> '/gdrive/Shared drives/Local Disk 2/Local Disk 1/WsaPackage_1.7.32815.0_x64_Release-Nightly.zip'\n",
            "'/gdrive/Shared drives/Local Disk 1/Robot 2.0 x.mkv' -> '/gdrive/Shared drives/Local Disk 2/Local Disk 1/Robot 2.0 x.mkv'\n"
          ]
        }
      ]
    }
  ]
}