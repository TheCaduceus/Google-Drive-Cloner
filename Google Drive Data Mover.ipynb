{
  "nbformat": 4,
  "nbformat_minor": 0,
  "metadata": {
    "colab": {
      "name": "Cloner(1-2).ipynb",
      "provenance": []
    },
    "kernelspec": {
      "name": "python3",
      "display_name": "Python 3"
    },
    "language_info": {
      "name": "python"
    }
  },
  "cells": [
    {
      "cell_type": "markdown",
      "source": [
        "#**Google Drive Data Cloner**"
      ],
      "metadata": {
        "id": "ZyaqBDOF407l"
      }
    },
    {
      "cell_type": "markdown",
      "source": [
        "**First! Connect Your Google Account:**"
      ],
      "metadata": {
        "id": "n6AMMEIgbggV"
      }
    },
    {
      "cell_type": "code",
      "execution_count": null,
      "metadata": {
        "id": "ykm0uzkd0DoY",
        "cellView": "form"
      },
      "outputs": [],
      "source": [
        "#@markdown <br><center><img src=\"https://upload.wikimedia.org/wikipedia/commons/thumb/d/da/Google_Drive_logo.png/600px-Google_Drive_logo.png\" height=\"50\" alt=\"Gdrive-logo' \"/></center>\n",
        "#@markdown <center><h3>Connect to Google Account</h3></center><br>\n",
        "MODE = \"MOUNT\" #@param [\"MOUNT\", \"UNMOUNT\"]\n",
        "#Mount your Gdrive! \n",
        "from google.colab import drive\n",
        "drive.mount._DEBUG = False\n",
        "if MODE == \"MOUNT\":\n",
        "  drive.mount('/gdrive', force_remount=True)\n",
        "elif MODE == \"UNMOUNT\":\n",
        "  try:\n",
        "    drive.flush_and_unmount()\n",
        "  except ValueError:\n",
        "    pass\n",
        "  get_ipython().system_raw(\"rm -rf /root/.config/Google/DriveFS\")"
      ]
    },
    {
      "cell_type": "markdown",
      "source": [
        "**Google Colab Timeout Preventer! Run this Code to prevent TIMEOUT in Google Colab.Before running any code run this!**"
      ],
      "metadata": {
        "id": "jgBwwgMJ79E_"
      }
    },
    {
      "cell_type": "code",
      "source": [
        "#@markdown <br><center><img src='https://miro.medium.com/max/2036/1*GW4cqNv-SIQ9BGGhssL1bQ.png' height=\"100\" alt=\"netdata\"/></center>\n",
        "#@title <center>Time Out Preventer (Advanced) </center></strong>\n",
        "%%capture\n",
        "AUTO_RECONNECT = True #@param {type:\"boolean\"}\n",
        "#@markdown **Run this code to prevent NOTEBOOK from Timeout**\n",
        "from os import makedirs\n",
        "makedirs(\"/root/.config/rclone\", exist_ok = True)\n",
        "if AUTO_RECONNECT:\n",
        "  import IPython\n",
        "  from google.colab import output\n",
        "\n",
        "  display(IPython.display.Javascript('''\n",
        "  function ClickConnect(){\n",
        "    btn = document.querySelector(\"colab-connect-button\")\n",
        "    if (btn != null){\n",
        "      console.log(\"Click colab-connect-button\"); \n",
        "      btn.click() \n",
        "      }\n",
        "    \n",
        "    btn = document.getElementById('ok')\n",
        "    if (btn != null){\n",
        "      console.log(\"Click reconnect\"); \n",
        "      btn.click() \n",
        "      }\n",
        "    }\n",
        "    \n",
        "  setInterval(ClickConnect,60000)\n",
        "  '''))"
      ],
      "metadata": {
        "cellView": "form",
        "id": "Zv-35yIC71i0"
      },
      "execution_count": null,
      "outputs": []
    },
    {
      "cell_type": "markdown",
      "source": [
        "**Run the Following to see the Name of Available Shared Drives in your Account:**"
      ],
      "metadata": {
        "id": "UEysGEooceMC"
      }
    },
    {
      "cell_type": "code",
      "source": [
        "#@markdown <br><center><img src='https://upload.wikimedia.org/wikipedia/commons/thumb/d/da/Google_Drive_logo.png/600px-Google_Drive_logo.png' height=\"50\" alt=\"Gdrive-logo\"/></center>\n",
        "#@markdown <center><h3>Show Name of Available Shared Drives</h3></center><br>\n",
        "!ls '/gdrive/Shared drives/'"
      ],
      "metadata": {
        "id": "SKTRvPzZcaX1",
        "cellView": "form"
      },
      "execution_count": null,
      "outputs": []
    },
    {
      "cell_type": "markdown",
      "source": [
        "**Or, Run the Following to see the Available Files in My Drive:**"
      ],
      "metadata": {
        "id": "nBSbY8Km0sUP"
      }
    },
    {
      "cell_type": "code",
      "source": [
        "#@markdown <br><center><img src='https://upload.wikimedia.org/wikipedia/commons/thumb/d/da/Google_Drive_logo.png/600px-Google_Drive_logo.png' height=\"50\" alt=\"Gdrive-logo\"/></center>\n",
        "#@markdown <center><h3>Show Name of Files in My Drive</h3></center><br>\n",
        "!ls '/gdrive/My Drive/'"
      ],
      "metadata": {
        "cellView": "form",
        "id": "unCW-zkD06xA"
      },
      "execution_count": null,
      "outputs": []
    },
    {
      "cell_type": "markdown",
      "source": [
        "**Check Download and Upload speed of your transfer:**"
      ],
      "metadata": {
        "id": "-t-DR-_ocIRE"
      }
    },
    {
      "cell_type": "code",
      "source": [
        "#@markdown <br><center><img src='https://github.com/TheCaduceus/Google-Drive-Cloner/blob/main/Img/st.jpeg?raw=true' height=\"50\" alt=\"ST-logo\"/></center>\n",
        "#@markdown <center><h3>Check Tranfer Speed!</h3></center><br>\n",
        "!curl -s https://raw.githubusercontent.com/sivel/speedtest-cli/master/speedtest.py | python"
      ],
      "metadata": {
        "id": "5hLBUEHtcFjY",
        "cellView": "form"
      },
      "execution_count": null,
      "outputs": []
    },
    {
      "cell_type": "markdown",
      "source": [
        "**Now put the Shared Drive Name which you got from the code (2) replace \"FROM\" from Shared Drive NAME from which you have to copy file and replace \"TO\" to which Shared drive to copy data.**"
      ],
      "metadata": {
        "id": "IjpudET4cuCq"
      }
    },
    {
      "cell_type": "code",
      "source": [
        "!cp -av \"/gdrive/Shared drives/FROM\" '/gdrive/Shared drives/TO'"
      ],
      "metadata": {
        "id": "eulRb_330ibS"
      },
      "execution_count": null,
      "outputs": []
    },
    {
      "cell_type": "markdown",
      "source": [
        "**You can also copy your data from My Drive to Shared Drive or Shared Drive to My Drive use the following code: Replace \"FILE NAME\" with File name you have to copy to Shared Drive, you can use the above given code to get the file name and copy paste it. And replace \"SHARED DRIVE NAME\" with the Shared Drive name in which you have to copy the Data.**"
      ],
      "metadata": {
        "id": "PEahTt5X5OuB"
      }
    },
    {
      "cell_type": "code",
      "source": [
        "!cp -av \"/gdrive/My Drive/FILE NAME\" '/gdrive/Shared drives/SHARED DRIVE NAME'"
      ],
      "metadata": {
        "id": "tZYi6YAk5qJz"
      },
      "execution_count": null,
      "outputs": []
    },
    {
      "cell_type": "markdown",
      "source": [
        "**You can also move data from Shared Drive to My Drive: Replace \"SHARED DRIVE NAME\" by Shared Drive name from which you have to copy Data.**"
      ],
      "metadata": {
        "id": "3lX42iH_63Ww"
      }
    },
    {
      "cell_type": "code",
      "source": [
        "!cp -av \"/gdrive/Shared drives/SHARED DRIVE NAME\" '/gdrive/My Drive/'"
      ],
      "metadata": {
        "id": "0Y02cklW7iDJ"
      },
      "execution_count": null,
      "outputs": []
    }
  ]
}